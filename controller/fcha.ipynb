{
 "cells": [
  {
   "cell_type": "code",
   "execution_count": 4,
   "metadata": {
    "collapsed": true,
    "ExecuteTime": {
     "end_time": "2024-09-01T03:34:30.286558400Z",
     "start_time": "2024-09-01T03:34:30.274528200Z"
    }
   },
   "outputs": [],
   "source": [
    "import  pandas as pd\n",
    "import numpy as np\n",
    "\n",
    "\n",
    "\n",
    "def add_normal_disturbance(lst, variance):\n",
    "    # 计算标准差（标准差是方差的平方根）\n",
    "    std_dev = np.sqrt(variance)\n",
    "\n",
    "    # 对列表中的每个元素添加正态分布的扰动\n",
    "    disturbed_lst = [np.random.normal(loc=value, scale=std_dev) for value in lst]\n",
    "\n",
    "    return disturbed_lst\n",
    "\n"
   ]
  },
  {
   "cell_type": "code",
   "execution_count": 6,
   "outputs": [],
   "source": [
    "df = pd.read_csv(\"xiaomi.csv\")\n",
    "l = df.shape[0]\n",
    "memory = [166 for i in range(l)]\n",
    "df['memory'] = add_normal_disturbance(memory, 0.3)\n",
    "cpu = [8 for i in range(l)]\n",
    "df['cpu'] = add_normal_disturbance(cpu, 3)"
   ],
   "metadata": {
    "collapsed": false,
    "ExecuteTime": {
     "end_time": "2024-09-01T03:35:12.857120900Z",
     "start_time": "2024-09-01T03:35:12.835968700Z"
    }
   }
  },
  {
   "cell_type": "code",
   "execution_count": 9,
   "outputs": [],
   "source": [
    "df.to_csv(\"xiaomiadd.csv\", index=False)"
   ],
   "metadata": {
    "collapsed": false,
    "ExecuteTime": {
     "end_time": "2024-09-01T03:35:50.637509200Z",
     "start_time": "2024-09-01T03:35:50.627394400Z"
    }
   }
  }
 ],
 "metadata": {
  "kernelspec": {
   "display_name": "Python 3",
   "language": "python",
   "name": "python3"
  },
  "language_info": {
   "codemirror_mode": {
    "name": "ipython",
    "version": 2
   },
   "file_extension": ".py",
   "mimetype": "text/x-python",
   "name": "python",
   "nbconvert_exporter": "python",
   "pygments_lexer": "ipython2",
   "version": "2.7.6"
  }
 },
 "nbformat": 4,
 "nbformat_minor": 0
}
